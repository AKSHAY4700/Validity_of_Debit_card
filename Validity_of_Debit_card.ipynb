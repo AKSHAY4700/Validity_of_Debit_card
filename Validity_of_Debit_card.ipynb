{
 "cells": [
  {
   "cell_type": "code",
   "execution_count": null,
   "id": "3c86f6a2",
   "metadata": {},
   "outputs": [],
   "source": [
    "i=1\n",
    "print(\"U will get 3 chances\")\n",
    "\n",
    "while i<=3:\n",
    "    i+=1\n",
    "    card_num=str(input(\"Enter the debit card number\\n\"))\n",
    "\n",
    "    if len(card_num)==14:\n",
    "        print(\"Valid num\")\n",
    "    else:\n",
    "        print(\"Wrong card number\") \n",
    "        continue\n",
    "        \n",
    "    card_year=int(input(\"enter the year that is printed on the card\\n\"))\n",
    "    if card_year>=2020:\n",
    "        print(\"card year valid\")\n",
    "    else:\n",
    "        print(\"card year invalid\")\n",
    "        continue\n",
    "        \n",
    "    card_month=int(input(\"enter the month that is printed on the card\\n\"))\n",
    "    if card_month>=1 and card_month<=12:\n",
    "        print(\"valid month\")\n",
    "\n",
    "    else:\n",
    "        print(\"invalid month\")\n",
    "        continue\n",
    "        \n",
    "    cvv=str(input(\"enter the cvv on the card\\n\"))\n",
    "\n",
    "    if len(cvv)>=1 and len(cvv)<=3:\n",
    "        print(\"Valid card\")\n",
    "\n",
    "    else:\n",
    "        print(\"Invalid cvv\")\n",
    "        continue\n",
    "        \n",
    "if i>3:\n",
    "    print(\"all chances gone\")"
   ]
  }
 ],
 "metadata": {
  "kernelspec": {
   "display_name": "Python 3 (ipykernel)",
   "language": "python",
   "name": "python3"
  },
  "language_info": {
   "codemirror_mode": {
    "name": "ipython",
    "version": 3
   },
   "file_extension": ".py",
   "mimetype": "text/x-python",
   "name": "python",
   "nbconvert_exporter": "python",
   "pygments_lexer": "ipython3",
   "version": "3.10.9"
  }
 },
 "nbformat": 4,
 "nbformat_minor": 5
}
